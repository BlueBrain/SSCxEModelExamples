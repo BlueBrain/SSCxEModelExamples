{
 "cells": [
  {
   "cell_type": "markdown",
   "metadata": {},
   "source": [
    "# Feature Extraction\n",
    "\n",
    "This notebook illustrates the feature extraction step applied on the cells of continuous adapting pyramidal cells (cADpyr) e-type.\n",
    "\n",
    "Feature extraction step is performed using BluePyEfe software. BluePyEfe extracts electrical features from a group of cells."
   ]
  },
  {
   "cell_type": "code",
   "execution_count": null,
   "metadata": {},
   "outputs": [],
   "source": [
    "import json\n",
    "from pathlib import Path\n",
    "\n",
    "import bluepyefe as bpefe\n",
    "import matplotlib.pyplot as plt\n",
    "from matplotlib.ticker import FormatStrFormatter\n",
    "import pandas as pd\n",
    "import seaborn as sns\n",
    "\n",
    "\n",
    "%matplotlib inline\n",
    "sns.set_style(\"darkgrid\")\n",
    "plt.rcParams[\"figure.figsize\"] = (12,12)"
   ]
  },
  {
   "cell_type": "code",
   "execution_count": null,
   "metadata": {},
   "outputs": [],
   "source": [
    "etype = \"cADpyr\""
   ]
  },
  {
   "cell_type": "markdown",
   "metadata": {},
   "source": [
    "Load the configuration file specifying features to be extracted and the voltage traces to be used."
   ]
  },
  {
   "cell_type": "code",
   "execution_count": null,
   "metadata": {},
   "outputs": [],
   "source": [
    "with open(\"feature_extraction_config.json\", \"r\") as json_file:\n",
    "    config = json.load(json_file)"
   ]
  },
  {
   "cell_type": "markdown",
   "metadata": {},
   "source": [
    "Responses to fixed electrophysiological protocols were recorded for each biological neuron.\n",
    "\n",
    "Feature extraction step is performed on those recordings that are listed below."
   ]
  },
  {
   "cell_type": "code",
   "execution_count": null,
   "metadata": {},
   "outputs": [],
   "source": [
    "config[\"features\"].keys()"
   ]
  },
  {
   "cell_type": "markdown",
   "metadata": {},
   "source": [
    "The features extracted from the IDthresh protocol responses."
   ]
  },
  {
   "cell_type": "code",
   "execution_count": null,
   "metadata": {},
   "outputs": [],
   "source": [
    "print(config[\"features\"][\"IDthresh\"])"
   ]
  },
  {
   "cell_type": "markdown",
   "metadata": {},
   "source": [
    "The features extracted from the APWaveform protocol responses."
   ]
  },
  {
   "cell_type": "code",
   "execution_count": null,
   "metadata": {},
   "outputs": [],
   "source": [
    "print(config[\"features\"][\"APWaveform\"])"
   ]
  },
  {
   "cell_type": "markdown",
   "metadata": {},
   "source": [
    "Extracting the features using the Extractor class.\n",
    "\n",
    "The primary use-case of the Extractor class is to produce efeatures and protocols json files that can be used as input for single cell model building using BluePyOpt."
   ]
  },
  {
   "cell_type": "code",
   "execution_count": null,
   "metadata": {},
   "outputs": [],
   "source": [
    "extractor = bpefe.Extractor(etype, config)\n",
    "extractor.disable_extra_feature_plots()\n",
    "extractor.create_dataset()\n",
    "\n",
    "# does not produce output, stores object attributes\n",
    "extractor.extract_features(threshold=-30)\n",
    "extractor.mean_features()\n",
    "\n",
    "extractor.analyse_threshold()\n",
    "extractor.feature_config_cells()\n",
    "extractor.feature_config_all()"
   ]
  },
  {
   "cell_type": "markdown",
   "metadata": {},
   "source": [
    "The features are extracted into the './cADpyr' folder."
   ]
  },
  {
   "cell_type": "markdown",
   "metadata": {},
   "source": [
    "## Features extracted from single cells"
   ]
  },
  {
   "cell_type": "code",
   "execution_count": null,
   "metadata": {},
   "outputs": [],
   "source": [
    "with open(Path(etype) / \"C060109A1-SR-C1\" / \"features.json\", \"r\") as features_file:\n",
    "    single_cell_features = json.load(features_file)"
   ]
  },
  {
   "cell_type": "markdown",
   "metadata": {},
   "source": [
    "We are going to use the following functions in plotting the features."
   ]
  },
  {
   "cell_type": "code",
   "execution_count": null,
   "metadata": {},
   "outputs": [],
   "source": [
    "def features_df(features_config: dict, protocol: str) -> pd.DataFrame:\n",
    "    \"\"\"Returns the dataframe containing features for the given protocol.\"\"\"\n",
    "    df = pd.DataFrame(features_config[protocol][\"soma.v\"])\n",
    "    df[\"mean\"] = df[\"val\"].apply(lambda x : x[0])\n",
    "    df[\"variance\"] = df[\"val\"].apply(lambda x : x[1])\n",
    "    df[\"relative_variance\"] = df[\"variance\"] / abs(df[\"mean\"])\n",
    "    df = df.drop(['val', 'fid', 'strict_stim'], axis=1)\n",
    "    return df\n",
    "\n",
    "def feature_plot(df: pd.DataFrame, protocol: str) -> None:\n",
    "    \"\"\"Plots the features of a dataframe containing features extracted from a protocol.\"\"\"\n",
    "    _, axs = plt.subplots()\n",
    "    axs.errorbar(y = range(len(df)), x = df[\"mean\"], xerr=df['relative_variance'], fmt='o', color='midnightblue',\n",
    "                ecolor='steelblue', elinewidth=2.5, capsize=6)\n",
    "    axs.set_yticks(range(len(df)))\n",
    "    axs.set_yticklabels(df[\"feature\"])\n",
    "    axs.xaxis.set_major_formatter(FormatStrFormatter('%.1f'))\n",
    "    axs.set_xlabel(\"feature values\")\n",
    "    plt.title(f\"Features extracted on {protocol} protocol responses\")\n",
    "    plt.show()\n",
    "\n",
    "def drop_large_values_features(df: pd.DataFrame) -> pd.DataFrame:\n",
    "    \"\"\"Returns a dataframe with the features that have a mean value smaller than 100.\"\"\"\n",
    "    return df[df[\"mean\"] < 100]"
   ]
  },
  {
   "cell_type": "code",
   "execution_count": null,
   "metadata": {},
   "outputs": [],
   "source": [
    "step_120_protocol = \"Step_120\"\n",
    "apwaveform_280_protocol = \"APWaveform_280\"\n",
    "idrest_all_protocol = \"IDrest_all\""
   ]
  },
  {
   "cell_type": "markdown",
   "metadata": {},
   "source": [
    "The features extracted from the responses of Step_120 protocol are contained in the DataFrame below.\n",
    "\n",
    "\"n\" stands for the number of responses used in computing this feature.\n"
   ]
  },
  {
   "cell_type": "code",
   "execution_count": null,
   "metadata": {},
   "outputs": [],
   "source": [
    "step_df = features_df(single_cell_features, step_120_protocol)\n",
    "step_df"
   ]
  },
  {
   "cell_type": "markdown",
   "metadata": {},
   "source": [
    "Here we drop the features with a mean value larger than 100, for plotting.\n",
    "Otherwise in the presence of large mean values, the variances become very hard to see."
   ]
  },
  {
   "cell_type": "code",
   "execution_count": null,
   "metadata": {},
   "outputs": [],
   "source": [
    "step_df = drop_large_values_features(step_df)"
   ]
  },
  {
   "cell_type": "markdown",
   "metadata": {},
   "source": [
    "The figure below illustrates the feature mean and relative variances computed from the Step_120 protocol responses.\n",
    "\n",
    "The relative variances are computed relative to the absolute value of mean as explained in here.\n",
    "https://en.wikipedia.org/wiki/Index_of_dispersion"
   ]
  },
  {
   "cell_type": "code",
   "execution_count": null,
   "metadata": {},
   "outputs": [],
   "source": [
    "feature_plot(step_df, step_120_protocol)"
   ]
  },
  {
   "cell_type": "markdown",
   "metadata": {},
   "source": [
    "Similarly, the features extracted from the APWaveform_280 responses are below"
   ]
  },
  {
   "cell_type": "code",
   "execution_count": null,
   "metadata": {},
   "outputs": [],
   "source": [
    "apwaveform_df = features_df(single_cell_features, apwaveform_280_protocol)\n",
    "apwaveform_df = drop_large_values_features(apwaveform_df)\n",
    "apwaveform_df.head(10)"
   ]
  },
  {
   "cell_type": "code",
   "execution_count": null,
   "metadata": {},
   "outputs": [],
   "source": [
    "feature_plot(apwaveform_df, apwaveform_280_protocol)"
   ]
  },
  {
   "cell_type": "markdown",
   "metadata": {},
   "source": [
    "The \"IDrest_all\" protocol contains all responses retrieved from various configurations of the \"IDrest\" protocols such as \"IDrest_120\", \"IDrest_150\" etc."
   ]
  },
  {
   "cell_type": "code",
   "execution_count": null,
   "metadata": {},
   "outputs": [],
   "source": [
    "idrest_all_df = features_df(single_cell_features, idrest_all_protocol)\n",
    "idrest_all_df = drop_large_values_features(idrest_all_df)\n",
    "idrest_all_df.head(10)"
   ]
  },
  {
   "cell_type": "code",
   "execution_count": null,
   "metadata": {},
   "outputs": [],
   "source": [
    "feature_plot(idrest_all_df, idrest_all_protocol)"
   ]
  },
  {
   "cell_type": "markdown",
   "metadata": {},
   "source": [
    "## Features extracted from a group of cells\n",
    "\n",
    "In this section we will look at the features extracted from a group of cells having the (cADpyr) e-type."
   ]
  },
  {
   "cell_type": "code",
   "execution_count": null,
   "metadata": {},
   "outputs": [],
   "source": [
    "with open(Path(etype) / \"features.json\", \"r\") as features_file:\n",
    "    etype_features = json.load(features_file)"
   ]
  },
  {
   "cell_type": "markdown",
   "metadata": {},
   "source": [
    "The \"n\" column in this dataframe stands for the number of cells used in feature extraction."
   ]
  },
  {
   "cell_type": "code",
   "execution_count": null,
   "metadata": {},
   "outputs": [],
   "source": [
    "etype_step_df = features_df(etype_features, step_120_protocol)\n",
    "etype_step_df = drop_large_values_features(etype_step_df)\n",
    "etype_step_df.head(10)"
   ]
  },
  {
   "cell_type": "code",
   "execution_count": null,
   "metadata": {},
   "outputs": [],
   "source": [
    "feature_plot(etype_step_df, step_120_protocol)"
   ]
  },
  {
   "cell_type": "markdown",
   "metadata": {},
   "source": [
    "Similarly, the features extracted from the APWaveform responses are below."
   ]
  },
  {
   "cell_type": "code",
   "execution_count": null,
   "metadata": {},
   "outputs": [],
   "source": [
    "etype_apwaveform_df = features_df(etype_features, apwaveform_280_protocol)\n",
    "etype_apwaveform_df = drop_large_values_features(etype_apwaveform_df)\n",
    "etype_apwaveform_df.head(10)"
   ]
  },
  {
   "cell_type": "code",
   "execution_count": null,
   "metadata": {},
   "outputs": [],
   "source": [
    "feature_plot(etype_apwaveform_df, apwaveform_280_protocol)"
   ]
  },
  {
   "cell_type": "markdown",
   "metadata": {},
   "source": [
    "The features extracted from \"IDrest_all\" protocol for the e-type."
   ]
  },
  {
   "cell_type": "code",
   "execution_count": null,
   "metadata": {},
   "outputs": [],
   "source": [
    "etype_idrest_all_df = features_df(etype_features, idrest_all_protocol)\n",
    "etype_idrest_all_df = drop_large_values_features(etype_idrest_all_df)\n",
    "etype_idrest_all_df.head(10)"
   ]
  },
  {
   "cell_type": "code",
   "execution_count": null,
   "metadata": {},
   "outputs": [],
   "source": [
    "feature_plot(etype_idrest_all_df, idrest_all_protocol)"
   ]
  }
 ],
 "metadata": {
  "kernelspec": {
   "display_name": "Python 3.9.7 ('sscx-paper-py3.9')",
   "language": "python",
   "name": "python3"
  },
  "language_info": {
   "codemirror_mode": {
    "name": "ipython",
    "version": 3
   },
   "file_extension": ".py",
   "mimetype": "text/x-python",
   "name": "python",
   "nbconvert_exporter": "python",
   "pygments_lexer": "ipython3",
   "version": "3.9.7"
  },
  "orig_nbformat": 4,
  "vscode": {
   "interpreter": {
    "hash": "78abc95f98cd728fe7ff005f493ec72691bec8ffd5a57e5e92b61c1701dc67ce"
   }
  }
 },
 "nbformat": 4,
 "nbformat_minor": 2
}
