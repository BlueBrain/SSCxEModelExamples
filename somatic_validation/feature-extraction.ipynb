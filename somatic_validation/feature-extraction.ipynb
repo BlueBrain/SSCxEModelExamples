{
 "cells": [
  {
   "cell_type": "markdown",
   "metadata": {},
   "source": [
    "## Extraction of features to be used by the somatic validation"
   ]
  },
  {
   "cell_type": "code",
   "execution_count": 1,
   "metadata": {},
   "outputs": [],
   "source": [
    "import json\n",
    "import logging\n",
    "from pathlib import Path"
   ]
  },
  {
   "cell_type": "code",
   "execution_count": 2,
   "metadata": {},
   "outputs": [],
   "source": [
    "import pandas as pd"
   ]
  },
  {
   "cell_type": "code",
   "execution_count": 3,
   "metadata": {},
   "outputs": [],
   "source": [
    "from extract_features import translate_legacy_targets, get_files_metadata, extract_efeatures"
   ]
  },
  {
   "cell_type": "code",
   "execution_count": 4,
   "metadata": {},
   "outputs": [],
   "source": [
    "logger = logging.getLogger()\n",
    "logger.setLevel(logging.ERROR)"
   ]
  },
  {
   "cell_type": "code",
   "execution_count": 5,
   "metadata": {},
   "outputs": [
    {
     "name": "stdout",
     "output_type": "stream",
     "text": [
      "Found 44 cells\n"
     ]
    }
   ],
   "source": [
    "traces_dir = Path(\"..\") / \"feature_extraction\" / \"input-traces\"\n",
    "\n",
    "# get all folder names in traces_dir\n",
    "cell_ids = [x.name for x in traces_dir.iterdir() if x.is_dir()]\n",
    "print(f\"Found {len(cell_ids)} cells\")\n",
    "\n",
    "with open(\"experiments.json\", \"r\") as f:\n",
    "    experiments = json.load(f)"
   ]
  },
  {
   "cell_type": "markdown",
   "metadata": {},
   "source": [
    "#### The protocols to be used in extraction\n",
    "\n",
    "IDRest and IDthresh protocols will only be used in the computation of the rheobase."
   ]
  },
  {
   "cell_type": "code",
   "execution_count": 6,
   "metadata": {},
   "outputs": [
    {
     "data": {
      "text/plain": [
       "dict_keys(['IDthresh', 'IDhyperpol', 'sAHP', 'APThreshold'])"
      ]
     },
     "execution_count": 6,
     "metadata": {},
     "output_type": "execute_result"
    }
   ],
   "source": [
    "experiments.keys()"
   ]
  },
  {
   "cell_type": "code",
   "execution_count": 7,
   "metadata": {},
   "outputs": [
    {
     "data": {
      "text/plain": [
       "{'location': 'soma.v',\n",
       " 'tolerances': [20.0],\n",
       " 'targets': [150, 170, 200, 220, 250, 270, 300, 350],\n",
       " 'efeatures': ['Spikecount',\n",
       "  'AP_amplitude',\n",
       "  'inv_time_to_first_spike',\n",
       "  'AHP_depth_abs',\n",
       "  'sag_ratio1',\n",
       "  'decay_time_constant_after_stim',\n",
       "  'steady_state_voltage',\n",
       "  'minimum_voltage',\n",
       "  'steady_state_voltage_stimend']}"
      ]
     },
     "execution_count": 7,
     "metadata": {},
     "output_type": "execute_result"
    }
   ],
   "source": [
    "experiments[\"sAHP\"]"
   ]
  },
  {
   "cell_type": "markdown",
   "metadata": {},
   "source": [
    "### Translating the experiments into a format that bluepyefe2 understands"
   ]
  },
  {
   "cell_type": "code",
   "execution_count": 8,
   "metadata": {},
   "outputs": [
    {
     "name": "stdout",
     "output_type": "stream",
     "text": [
      "Cells used 44/44\n"
     ]
    }
   ],
   "source": [
    "targets = translate_legacy_targets(experiments)\n",
    "files_metadata = get_files_metadata(traces_dir, cell_ids, experiments)"
   ]
  },
  {
   "cell_type": "markdown",
   "metadata": {},
   "source": [
    "### Running the extraction\n",
    "\n",
    "Enable the plot flag for more detailed plots to be written in the etype directory."
   ]
  },
  {
   "cell_type": "code",
   "execution_count": 9,
   "metadata": {},
   "outputs": [
    {
     "name": "stderr",
     "output_type": "stream",
     "text": [
      "/home/tuncel/.virtualenvs/sscx-emodel-example-py39/lib/python3.9/site-packages/bluepyefe/recording.py:267: RuntimeWarning: Mean of empty slice\n",
      "  self.efeatures[efeature_name] = numpy.nanmean(value)\n"
     ]
    },
    {
     "name": "stdout",
     "output_type": "stream",
     "text": [
      "extracting features for per cell...\n"
     ]
    }
   ],
   "source": [
    "etype = \"L5TPC\"\n",
    "protocols_rheobase = [\"IDthresh\", \"IDRest\"]\n",
    "\n",
    "extract_efeatures(\n",
    "    etype, files_metadata, targets, protocols_rheobase, plot=False, per_cell=True\n",
    ")"
   ]
  },
  {
   "cell_type": "markdown",
   "metadata": {},
   "source": [
    "## Features extracted from a group of cells\n",
    "\n",
    "In this section we will look at the features extracted from a group of cells having the (cADpyr) e-type."
   ]
  },
  {
   "cell_type": "code",
   "execution_count": 10,
   "metadata": {},
   "outputs": [],
   "source": [
    "with open(Path(etype) / \"features.json\", \"r\") as features_file:\n",
    "    etype_features = json.load(features_file)"
   ]
  },
  {
   "cell_type": "markdown",
   "metadata": {},
   "source": [
    "All protocols applied to the cells are listed below.\n",
    "\n",
    "The key before the underscore is the name of the protocol such as `sAHP` or `IDhyperpol`.\n",
    "\n",
    "The number following the underscore represents the percentage amplitude of the current with respect to cell's rheobase.\n",
    "\n",
    "* `sAHP_150` for example gives a current input that is equivalent of the 1.5X of the cell's rheobase.\n",
    "\n",
    "* `sAHP_300` instead is the 3X of the cell's rheobase."
   ]
  },
  {
   "cell_type": "code",
   "execution_count": 11,
   "metadata": {},
   "outputs": [
    {
     "data": {
      "text/plain": [
       "dict_keys(['IDthresh_120', 'IDhyperpol_150', 'IDhyperpol_170', 'IDhyperpol_220', 'IDhyperpol_250', 'IDhyperpol_270', 'sAHP_150', 'sAHP_170', 'sAHP_200', 'sAHP_220', 'sAHP_250', 'sAHP_270', 'sAHP_300', 'sAHP_350', 'APThreshold_300', 'APThreshold_330'])"
      ]
     },
     "execution_count": 11,
     "metadata": {},
     "output_type": "execute_result"
    }
   ],
   "source": [
    "etype_features.keys()"
   ]
  },
  {
   "cell_type": "markdown",
   "metadata": {},
   "source": [
    "We are going to use the following function to display the features."
   ]
  },
  {
   "cell_type": "code",
   "execution_count": 12,
   "metadata": {},
   "outputs": [],
   "source": [
    "def features_df(features_config: dict, protocol: str) -> pd.DataFrame:\n",
    "    \"\"\"Returns the dataframe containing features for the given protocol.\"\"\"\n",
    "    df = pd.DataFrame(features_config[protocol][\"soma\"])\n",
    "    df[\"mean\"] = df[\"val\"].apply(lambda x : x[0])\n",
    "    df[\"variance\"] = df[\"val\"].apply(lambda x : x[1])\n",
    "    df[\"relative_variance\"] = df[\"variance\"] / abs(df[\"mean\"])\n",
    "    df = df.drop(['val', \"efeature_name\"], axis=1)\n",
    "    return df"
   ]
  },
  {
   "cell_type": "markdown",
   "metadata": {},
   "source": [
    "# Features extracted from the sAHP_250 protocol\n",
    "\n",
    "The below table shows the features extracted from the recordings after the sAHP_250 protocol is applied.\n",
    "\n",
    "n stands for the number of traces used in computing the feature."
   ]
  },
  {
   "cell_type": "code",
   "execution_count": 13,
   "metadata": {},
   "outputs": [
    {
     "data": {
      "text/html": [
       "<div>\n",
       "<style scoped>\n",
       "    .dataframe tbody tr th:only-of-type {\n",
       "        vertical-align: middle;\n",
       "    }\n",
       "\n",
       "    .dataframe tbody tr th {\n",
       "        vertical-align: top;\n",
       "    }\n",
       "\n",
       "    .dataframe thead th {\n",
       "        text-align: right;\n",
       "    }\n",
       "</style>\n",
       "<table border=\"1\" class=\"dataframe\">\n",
       "  <thead>\n",
       "    <tr style=\"text-align: right;\">\n",
       "      <th></th>\n",
       "      <th>feature</th>\n",
       "      <th>n</th>\n",
       "      <th>efel_settings</th>\n",
       "      <th>mean</th>\n",
       "      <th>variance</th>\n",
       "      <th>relative_variance</th>\n",
       "    </tr>\n",
       "  </thead>\n",
       "  <tbody>\n",
       "    <tr>\n",
       "      <th>0</th>\n",
       "      <td>Spikecount</td>\n",
       "      <td>40</td>\n",
       "      <td>{'Threshold': -30.0, 'interp_step': 0.1, 'stri...</td>\n",
       "      <td>5.775000</td>\n",
       "      <td>1.234656</td>\n",
       "      <td>0.213793</td>\n",
       "    </tr>\n",
       "    <tr>\n",
       "      <th>1</th>\n",
       "      <td>AP_amplitude</td>\n",
       "      <td>40</td>\n",
       "      <td>{'Threshold': -30.0, 'interp_step': 0.1, 'stri...</td>\n",
       "      <td>71.731232</td>\n",
       "      <td>6.512071</td>\n",
       "      <td>0.090784</td>\n",
       "    </tr>\n",
       "    <tr>\n",
       "      <th>2</th>\n",
       "      <td>inv_time_to_first_spike</td>\n",
       "      <td>40</td>\n",
       "      <td>{'Threshold': -30.0, 'interp_step': 0.1, 'stri...</td>\n",
       "      <td>192.329675</td>\n",
       "      <td>59.675707</td>\n",
       "      <td>0.310278</td>\n",
       "    </tr>\n",
       "    <tr>\n",
       "      <th>3</th>\n",
       "      <td>AHP_depth_abs</td>\n",
       "      <td>40</td>\n",
       "      <td>{'Threshold': -30.0, 'interp_step': 0.1, 'stri...</td>\n",
       "      <td>-57.956532</td>\n",
       "      <td>4.580531</td>\n",
       "      <td>0.079034</td>\n",
       "    </tr>\n",
       "    <tr>\n",
       "      <th>4</th>\n",
       "      <td>decay_time_constant_after_stim</td>\n",
       "      <td>40</td>\n",
       "      <td>{'Threshold': -30.0, 'interp_step': 0.1, 'stri...</td>\n",
       "      <td>17.322120</td>\n",
       "      <td>55.046015</td>\n",
       "      <td>3.177787</td>\n",
       "    </tr>\n",
       "    <tr>\n",
       "      <th>5</th>\n",
       "      <td>steady_state_voltage</td>\n",
       "      <td>40</td>\n",
       "      <td>{'Threshold': -30.0, 'interp_step': 0.1, 'stri...</td>\n",
       "      <td>-75.432364</td>\n",
       "      <td>2.144763</td>\n",
       "      <td>0.028433</td>\n",
       "    </tr>\n",
       "    <tr>\n",
       "      <th>6</th>\n",
       "      <td>minimum_voltage</td>\n",
       "      <td>40</td>\n",
       "      <td>{'Threshold': -30.0, 'interp_step': 0.1, 'stri...</td>\n",
       "      <td>-86.296875</td>\n",
       "      <td>2.316065</td>\n",
       "      <td>0.026838</td>\n",
       "    </tr>\n",
       "    <tr>\n",
       "      <th>7</th>\n",
       "      <td>steady_state_voltage_stimend</td>\n",
       "      <td>40</td>\n",
       "      <td>{'Threshold': -30.0, 'interp_step': 0.1, 'stri...</td>\n",
       "      <td>-69.690060</td>\n",
       "      <td>2.585147</td>\n",
       "      <td>0.037095</td>\n",
       "    </tr>\n",
       "  </tbody>\n",
       "</table>\n",
       "</div>"
      ],
      "text/plain": [
       "                          feature   n  \\\n",
       "0                      Spikecount  40   \n",
       "1                    AP_amplitude  40   \n",
       "2         inv_time_to_first_spike  40   \n",
       "3                   AHP_depth_abs  40   \n",
       "4  decay_time_constant_after_stim  40   \n",
       "5            steady_state_voltage  40   \n",
       "6                 minimum_voltage  40   \n",
       "7    steady_state_voltage_stimend  40   \n",
       "\n",
       "                                       efel_settings        mean   variance  \\\n",
       "0  {'Threshold': -30.0, 'interp_step': 0.1, 'stri...    5.775000   1.234656   \n",
       "1  {'Threshold': -30.0, 'interp_step': 0.1, 'stri...   71.731232   6.512071   \n",
       "2  {'Threshold': -30.0, 'interp_step': 0.1, 'stri...  192.329675  59.675707   \n",
       "3  {'Threshold': -30.0, 'interp_step': 0.1, 'stri...  -57.956532   4.580531   \n",
       "4  {'Threshold': -30.0, 'interp_step': 0.1, 'stri...   17.322120  55.046015   \n",
       "5  {'Threshold': -30.0, 'interp_step': 0.1, 'stri...  -75.432364   2.144763   \n",
       "6  {'Threshold': -30.0, 'interp_step': 0.1, 'stri...  -86.296875   2.316065   \n",
       "7  {'Threshold': -30.0, 'interp_step': 0.1, 'stri...  -69.690060   2.585147   \n",
       "\n",
       "   relative_variance  \n",
       "0           0.213793  \n",
       "1           0.090784  \n",
       "2           0.310278  \n",
       "3           0.079034  \n",
       "4           3.177787  \n",
       "5           0.028433  \n",
       "6           0.026838  \n",
       "7           0.037095  "
      ]
     },
     "execution_count": 13,
     "metadata": {},
     "output_type": "execute_result"
    }
   ],
   "source": [
    "sahp_250 = \"sAHP_250\"\n",
    "etype_sahp_df = features_df(etype_features, sahp_250)\n",
    "etype_sahp_df.head(10)"
   ]
  },
  {
   "cell_type": "markdown",
   "metadata": {},
   "source": [
    "The table above contains the feature mean, variance and relative variances computed from response of sAHP_250 protocol.\n",
    "\n",
    "The relative variances are computed relative to the absolute value of mean as explained in here.\n",
    "https://en.wikipedia.org/wiki/Index_of_dispersion"
   ]
  },
  {
   "cell_type": "markdown",
   "metadata": {},
   "source": [
    "# Features extracted from the APThreshold_300 protocol"
   ]
  },
  {
   "cell_type": "markdown",
   "metadata": {},
   "source": [
    "Similarly, the features extracted from the response of APThreshold_300 protocol is as follows. "
   ]
  },
  {
   "cell_type": "code",
   "execution_count": 14,
   "metadata": {},
   "outputs": [
    {
     "data": {
      "text/html": [
       "<div>\n",
       "<style scoped>\n",
       "    .dataframe tbody tr th:only-of-type {\n",
       "        vertical-align: middle;\n",
       "    }\n",
       "\n",
       "    .dataframe tbody tr th {\n",
       "        vertical-align: top;\n",
       "    }\n",
       "\n",
       "    .dataframe thead th {\n",
       "        text-align: right;\n",
       "    }\n",
       "</style>\n",
       "<table border=\"1\" class=\"dataframe\">\n",
       "  <thead>\n",
       "    <tr style=\"text-align: right;\">\n",
       "      <th></th>\n",
       "      <th>feature</th>\n",
       "      <th>n</th>\n",
       "      <th>efel_settings</th>\n",
       "      <th>mean</th>\n",
       "      <th>variance</th>\n",
       "      <th>relative_variance</th>\n",
       "    </tr>\n",
       "  </thead>\n",
       "  <tbody>\n",
       "    <tr>\n",
       "      <th>0</th>\n",
       "      <td>Spikecount</td>\n",
       "      <td>69</td>\n",
       "      <td>{'Threshold': -30.0, 'interp_step': 0.1, 'stri...</td>\n",
       "      <td>15.710145</td>\n",
       "      <td>2.548665</td>\n",
       "      <td>0.162231</td>\n",
       "    </tr>\n",
       "    <tr>\n",
       "      <th>1</th>\n",
       "      <td>AP_amplitude</td>\n",
       "      <td>69</td>\n",
       "      <td>{'Threshold': -30.0, 'interp_step': 0.1, 'stri...</td>\n",
       "      <td>70.697421</td>\n",
       "      <td>7.405067</td>\n",
       "      <td>0.104743</td>\n",
       "    </tr>\n",
       "    <tr>\n",
       "      <th>2</th>\n",
       "      <td>inv_first_ISI</td>\n",
       "      <td>69</td>\n",
       "      <td>{'Threshold': -30.0, 'interp_step': 0.1, 'stri...</td>\n",
       "      <td>6.157991</td>\n",
       "      <td>0.893994</td>\n",
       "      <td>0.145176</td>\n",
       "    </tr>\n",
       "    <tr>\n",
       "      <th>3</th>\n",
       "      <td>AP1_amp</td>\n",
       "      <td>69</td>\n",
       "      <td>{'Threshold': -30.0, 'interp_step': 0.1, 'stri...</td>\n",
       "      <td>76.234420</td>\n",
       "      <td>8.142366</td>\n",
       "      <td>0.106807</td>\n",
       "    </tr>\n",
       "    <tr>\n",
       "      <th>4</th>\n",
       "      <td>APlast_amp</td>\n",
       "      <td>69</td>\n",
       "      <td>{'Threshold': -30.0, 'interp_step': 0.1, 'stri...</td>\n",
       "      <td>66.707065</td>\n",
       "      <td>7.761749</td>\n",
       "      <td>0.116356</td>\n",
       "    </tr>\n",
       "  </tbody>\n",
       "</table>\n",
       "</div>"
      ],
      "text/plain": [
       "         feature   n                                      efel_settings  \\\n",
       "0     Spikecount  69  {'Threshold': -30.0, 'interp_step': 0.1, 'stri...   \n",
       "1   AP_amplitude  69  {'Threshold': -30.0, 'interp_step': 0.1, 'stri...   \n",
       "2  inv_first_ISI  69  {'Threshold': -30.0, 'interp_step': 0.1, 'stri...   \n",
       "3        AP1_amp  69  {'Threshold': -30.0, 'interp_step': 0.1, 'stri...   \n",
       "4     APlast_amp  69  {'Threshold': -30.0, 'interp_step': 0.1, 'stri...   \n",
       "\n",
       "        mean  variance  relative_variance  \n",
       "0  15.710145  2.548665           0.162231  \n",
       "1  70.697421  7.405067           0.104743  \n",
       "2   6.157991  0.893994           0.145176  \n",
       "3  76.234420  8.142366           0.106807  \n",
       "4  66.707065  7.761749           0.116356  "
      ]
     },
     "execution_count": 14,
     "metadata": {},
     "output_type": "execute_result"
    }
   ],
   "source": [
    "apthreshold_300 = \"APThreshold_300\"\n",
    "apthreshold_df = features_df(etype_features, apthreshold_300)\n",
    "apthreshold_df.head(10)"
   ]
  }
 ],
 "metadata": {
  "kernelspec": {
   "display_name": "Python 3.9.15 ('sscx-emodel-example-py39')",
   "language": "python",
   "name": "python3"
  },
  "language_info": {
   "codemirror_mode": {
    "name": "ipython",
    "version": 3
   },
   "file_extension": ".py",
   "mimetype": "text/x-python",
   "name": "python",
   "nbconvert_exporter": "python",
   "pygments_lexer": "ipython3",
   "version": "3.9.15"
  },
  "orig_nbformat": 4,
  "vscode": {
   "interpreter": {
    "hash": "f07ffb9730641dc1e466cab10d28a92b7db3db47f9e255e1e5255af2762f7a11"
   }
  }
 },
 "nbformat": 4,
 "nbformat_minor": 2
}
