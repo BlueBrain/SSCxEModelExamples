{
 "cells": [
  {
   "cell_type": "markdown",
   "metadata": {},
   "source": [
    "## Extraction of features to be used by the somatic validation"
   ]
  },
  {
   "cell_type": "code",
   "execution_count": 1,
   "metadata": {},
   "outputs": [],
   "source": [
    "import json\n",
    "import logging\n",
    "from pathlib import Path"
   ]
  },
  {
   "cell_type": "code",
   "execution_count": 2,
   "metadata": {},
   "outputs": [],
   "source": [
    "import matplotlib.pyplot as plt\n",
    "from matplotlib.ticker import FormatStrFormatter\n",
    "import pandas as pd\n",
    "import seaborn as sns\n",
    "\n",
    "\n",
    "%matplotlib inline\n",
    "sns.set_style(\"darkgrid\")\n",
    "plt.rcParams[\"figure.figsize\"] = (12,12)"
   ]
  },
  {
   "cell_type": "code",
   "execution_count": 3,
   "metadata": {},
   "outputs": [],
   "source": [
    "from extract_features import translate_legacy_targets, get_files_metadata, extract_efeatures"
   ]
  },
  {
   "cell_type": "code",
   "execution_count": 4,
   "metadata": {},
   "outputs": [],
   "source": [
    "logger = logging.getLogger()\n",
    "logger.setLevel(logging.ERROR)"
   ]
  },
  {
   "cell_type": "code",
   "execution_count": 5,
   "metadata": {},
   "outputs": [],
   "source": [
    "traces_dir = Path(\"..\") / \"feature_extraction\" / \"input-traces\"\n",
    "\n",
    "cell_ids = (\n",
    "    \"C060109A1-SR-C1\",\n",
    "    \"C060109A2-SR-C1\",\n",
    "    \"C060109A3-SR-C1\",\n",
    "    \"C070109A4-C1\",\n",
    "    \"C080501A5-SR-C1\",\n",
    "    \"C080501B2-SR-C1\",\n",
    ")\n",
    "\n",
    "with open(\"experiments.json\", \"r\") as f:\n",
    "    experiments = json.load(f)"
   ]
  },
  {
   "cell_type": "markdown",
   "metadata": {},
   "source": [
    "#### The protocols to be used in extraction\n",
    "\n",
    "IDRest and IDthresh protocols will only be used in the computation of the rheobase."
   ]
  },
  {
   "cell_type": "code",
   "execution_count": 6,
   "metadata": {},
   "outputs": [
    {
     "data": {
      "text/plain": [
       "dict_keys(['IDRest', 'IDthresh', 'IDhyperpol', 'sAHP', 'APThreshold'])"
      ]
     },
     "execution_count": 6,
     "metadata": {},
     "output_type": "execute_result"
    }
   ],
   "source": [
    "experiments.keys()"
   ]
  },
  {
   "cell_type": "code",
   "execution_count": 7,
   "metadata": {},
   "outputs": [
    {
     "data": {
      "text/plain": [
       "{'location': 'soma.v',\n",
       " 'tolerances': [20.0],\n",
       " 'targets': [150, 170, 200, 220, 250, 270, 300, 350],\n",
       " 'efeatures': ['Spikecount',\n",
       "  'AP_amplitude',\n",
       "  'inv_first_ISI',\n",
       "  'AP_height',\n",
       "  'inv_time_to_first_spike',\n",
       "  'decay_time_constant_after_stim',\n",
       "  'AHP_depth_abs',\n",
       "  'sag_amplitude',\n",
       "  'sag_ratio1',\n",
       "  'steady_state_voltage',\n",
       "  'minimum_voltage',\n",
       "  'steady_state_voltage_stimend']}"
      ]
     },
     "execution_count": 7,
     "metadata": {},
     "output_type": "execute_result"
    }
   ],
   "source": [
    "experiments[\"sAHP\"]"
   ]
  },
  {
   "cell_type": "markdown",
   "metadata": {},
   "source": [
    "### Translating the experiments into a format that bluepyefe2 understands"
   ]
  },
  {
   "cell_type": "code",
   "execution_count": 8,
   "metadata": {},
   "outputs": [
    {
     "name": "stdout",
     "output_type": "stream",
     "text": [
      "Cells used 6/6\n"
     ]
    }
   ],
   "source": [
    "targets = translate_legacy_targets(experiments)\n",
    "files_metadata = get_files_metadata(traces_dir, cell_ids, experiments)"
   ]
  },
  {
   "cell_type": "markdown",
   "metadata": {},
   "source": [
    "### Running the extraction\n",
    "\n",
    "Enable the plot flag for more detailed plots to be written in the etype directory."
   ]
  },
  {
   "cell_type": "code",
   "execution_count": 9,
   "metadata": {},
   "outputs": [
    {
     "name": "stderr",
     "output_type": "stream",
     "text": [
      "/gpfs/bbp.cscs.ch/project/proj37/home/tuncel/virtualenvs/py39-somatic-val/lib/python3.9/site-packages/bluepyefe/recording.py:267: RuntimeWarning: Mean of empty slice\n",
      "  self.efeatures[efeature_name] = numpy.nanmean(value)\n"
     ]
    },
    {
     "name": "stdout",
     "output_type": "stream",
     "text": [
      "extracting features for per cell...\n"
     ]
    }
   ],
   "source": [
    "etype = \"L5PC\"\n",
    "protocols_rheobase = [\"IDthresh\", \"IDRest\"]\n",
    "\n",
    "extract_efeatures(\n",
    "    etype, files_metadata, targets, protocols_rheobase, plot=False, per_cell=True\n",
    ")"
   ]
  },
  {
   "cell_type": "markdown",
   "metadata": {},
   "source": [
    "## Features extracted from a group of cells\n",
    "\n",
    "In this section we will look at the features extracted from a group of cells having the (cADpyr) e-type."
   ]
  },
  {
   "cell_type": "code",
   "execution_count": 10,
   "metadata": {},
   "outputs": [],
   "source": [
    "with open(Path(etype) / \"features.json\", \"r\") as features_file:\n",
    "    etype_features = json.load(features_file)"
   ]
  },
  {
   "cell_type": "markdown",
   "metadata": {},
   "source": []
  },
  {
   "cell_type": "code",
   "execution_count": 11,
   "metadata": {},
   "outputs": [
    {
     "data": {
      "text/plain": [
       "dict_keys(['IDthresh_120', 'IDhyperpol_150', 'IDhyperpol_170', 'IDhyperpol_200', 'IDhyperpol_220', 'IDhyperpol_250', 'IDhyperpol_270', 'sAHP_150', 'sAHP_170', 'sAHP_200', 'sAHP_220', 'sAHP_250', 'sAHP_270', 'sAHP_300', 'sAHP_350', 'APThreshold_300', 'APThreshold_330'])"
      ]
     },
     "execution_count": 11,
     "metadata": {},
     "output_type": "execute_result"
    }
   ],
   "source": [
    "etype_features.keys()"
   ]
  },
  {
   "cell_type": "markdown",
   "metadata": {},
   "source": [
    "We are going to use the following functions in plotting the features."
   ]
  },
  {
   "cell_type": "code",
   "execution_count": 12,
   "metadata": {},
   "outputs": [],
   "source": [
    "def features_df(features_config: dict, protocol: str) -> pd.DataFrame:\n",
    "    \"\"\"Returns the dataframe containing features for the given protocol.\"\"\"\n",
    "    df = pd.DataFrame(features_config[protocol][\"soma\"])\n",
    "    df[\"mean\"] = df[\"val\"].apply(lambda x : x[0])\n",
    "    df[\"variance\"] = df[\"val\"].apply(lambda x : x[1])\n",
    "    df[\"relative_variance\"] = df[\"variance\"] / abs(df[\"mean\"])\n",
    "    df = df.drop(['val', \"efeature_name\"], axis=1)\n",
    "    return df\n",
    "\n",
    "def feature_plot(df: pd.DataFrame, protocol: str) -> None:\n",
    "    \"\"\"Plots the features of a dataframe containing features extracted from a protocol.\"\"\"\n",
    "    fig, axs = plt.subplots()\n",
    "    axs.errorbar(y = range(len(df)), x = df[\"mean\"], xerr=df['relative_variance'], fmt='o', color='midnightblue',\n",
    "                ecolor='steelblue', elinewidth=2.5, capsize=6)\n",
    "    axs.set_yticks(range(len(df)))\n",
    "    axs.set_yticklabels(df[\"feature\"])\n",
    "    axs.xaxis.set_major_formatter(FormatStrFormatter('%.1f'))\n",
    "    axs.set_xlabel(\"feature values\")\n",
    "    plt.title(f\"Features extracted on {protocol} protocol responses\")\n",
    "    plt.show()\n",
    "\n",
    "def drop_large_values_features(df: pd.DataFrame) -> pd.DataFrame:\n",
    "    \"\"\"Returns a dataframe with the features that have a mean value smaller than 100.\"\"\"\n",
    "    return df[df[\"mean\"] < 100]"
   ]
  },
  {
   "cell_type": "markdown",
   "metadata": {},
   "source": [
    "# Features extracted from the sAHP_250 protocol\n",
    "\n",
    "The below table shows the features extracted from the recordings done using sAHP_250 protocol.\n",
    "\n",
    "n stands for the number of traces used in computing the feature.\n",
    "\n",
    "The call to drop_large_value_features is for plotting aesthetics and can be avoided."
   ]
  },
  {
   "cell_type": "code",
   "execution_count": 13,
   "metadata": {},
   "outputs": [
    {
     "data": {
      "text/html": [
       "<div>\n",
       "<style scoped>\n",
       "    .dataframe tbody tr th:only-of-type {\n",
       "        vertical-align: middle;\n",
       "    }\n",
       "\n",
       "    .dataframe tbody tr th {\n",
       "        vertical-align: top;\n",
       "    }\n",
       "\n",
       "    .dataframe thead th {\n",
       "        text-align: right;\n",
       "    }\n",
       "</style>\n",
       "<table border=\"1\" class=\"dataframe\">\n",
       "  <thead>\n",
       "    <tr style=\"text-align: right;\">\n",
       "      <th></th>\n",
       "      <th>feature</th>\n",
       "      <th>n</th>\n",
       "      <th>efel_settings</th>\n",
       "      <th>mean</th>\n",
       "      <th>variance</th>\n",
       "      <th>relative_variance</th>\n",
       "    </tr>\n",
       "  </thead>\n",
       "  <tbody>\n",
       "    <tr>\n",
       "      <th>0</th>\n",
       "      <td>Spikecount</td>\n",
       "      <td>5</td>\n",
       "      <td>{'Threshold': -30.0, 'interp_step': 0.1, 'stri...</td>\n",
       "      <td>5.400000</td>\n",
       "      <td>1.019804</td>\n",
       "      <td>0.188853</td>\n",
       "    </tr>\n",
       "    <tr>\n",
       "      <th>1</th>\n",
       "      <td>AP_amplitude</td>\n",
       "      <td>5</td>\n",
       "      <td>{'Threshold': -30.0, 'interp_step': 0.1, 'stri...</td>\n",
       "      <td>74.787983</td>\n",
       "      <td>7.394354</td>\n",
       "      <td>0.098871</td>\n",
       "    </tr>\n",
       "    <tr>\n",
       "      <th>2</th>\n",
       "      <td>inv_first_ISI</td>\n",
       "      <td>5</td>\n",
       "      <td>{'Threshold': -30.0, 'interp_step': 0.1, 'stri...</td>\n",
       "      <td>62.086144</td>\n",
       "      <td>15.392788</td>\n",
       "      <td>0.247926</td>\n",
       "    </tr>\n",
       "    <tr>\n",
       "      <th>3</th>\n",
       "      <td>AP_height</td>\n",
       "      <td>5</td>\n",
       "      <td>{'Threshold': -30.0, 'interp_step': 0.1, 'stri...</td>\n",
       "      <td>19.571869</td>\n",
       "      <td>4.943031</td>\n",
       "      <td>0.252558</td>\n",
       "    </tr>\n",
       "    <tr>\n",
       "      <th>5</th>\n",
       "      <td>decay_time_constant_after_stim</td>\n",
       "      <td>5</td>\n",
       "      <td>{'Threshold': -30.0, 'interp_step': 0.1, 'stri...</td>\n",
       "      <td>3.546628</td>\n",
       "      <td>0.791888</td>\n",
       "      <td>0.223279</td>\n",
       "    </tr>\n",
       "    <tr>\n",
       "      <th>6</th>\n",
       "      <td>AHP_depth_abs</td>\n",
       "      <td>5</td>\n",
       "      <td>{'Threshold': -30.0, 'interp_step': 0.1, 'stri...</td>\n",
       "      <td>-59.396771</td>\n",
       "      <td>3.815092</td>\n",
       "      <td>0.064231</td>\n",
       "    </tr>\n",
       "    <tr>\n",
       "      <th>7</th>\n",
       "      <td>steady_state_voltage</td>\n",
       "      <td>5</td>\n",
       "      <td>{'Threshold': -30.0, 'interp_step': 0.1, 'stri...</td>\n",
       "      <td>-77.053410</td>\n",
       "      <td>2.341820</td>\n",
       "      <td>0.030392</td>\n",
       "    </tr>\n",
       "    <tr>\n",
       "      <th>8</th>\n",
       "      <td>minimum_voltage</td>\n",
       "      <td>5</td>\n",
       "      <td>{'Threshold': -30.0, 'interp_step': 0.1, 'stri...</td>\n",
       "      <td>-86.000000</td>\n",
       "      <td>2.555015</td>\n",
       "      <td>0.029709</td>\n",
       "    </tr>\n",
       "    <tr>\n",
       "      <th>9</th>\n",
       "      <td>steady_state_voltage_stimend</td>\n",
       "      <td>5</td>\n",
       "      <td>{'Threshold': -30.0, 'interp_step': 0.1, 'stri...</td>\n",
       "      <td>-71.906108</td>\n",
       "      <td>2.479452</td>\n",
       "      <td>0.034482</td>\n",
       "    </tr>\n",
       "  </tbody>\n",
       "</table>\n",
       "</div>"
      ],
      "text/plain": [
       "                          feature  n  \\\n",
       "0                      Spikecount  5   \n",
       "1                    AP_amplitude  5   \n",
       "2                   inv_first_ISI  5   \n",
       "3                       AP_height  5   \n",
       "5  decay_time_constant_after_stim  5   \n",
       "6                   AHP_depth_abs  5   \n",
       "7            steady_state_voltage  5   \n",
       "8                 minimum_voltage  5   \n",
       "9    steady_state_voltage_stimend  5   \n",
       "\n",
       "                                       efel_settings       mean   variance  \\\n",
       "0  {'Threshold': -30.0, 'interp_step': 0.1, 'stri...   5.400000   1.019804   \n",
       "1  {'Threshold': -30.0, 'interp_step': 0.1, 'stri...  74.787983   7.394354   \n",
       "2  {'Threshold': -30.0, 'interp_step': 0.1, 'stri...  62.086144  15.392788   \n",
       "3  {'Threshold': -30.0, 'interp_step': 0.1, 'stri...  19.571869   4.943031   \n",
       "5  {'Threshold': -30.0, 'interp_step': 0.1, 'stri...   3.546628   0.791888   \n",
       "6  {'Threshold': -30.0, 'interp_step': 0.1, 'stri... -59.396771   3.815092   \n",
       "7  {'Threshold': -30.0, 'interp_step': 0.1, 'stri... -77.053410   2.341820   \n",
       "8  {'Threshold': -30.0, 'interp_step': 0.1, 'stri... -86.000000   2.555015   \n",
       "9  {'Threshold': -30.0, 'interp_step': 0.1, 'stri... -71.906108   2.479452   \n",
       "\n",
       "   relative_variance  \n",
       "0           0.188853  \n",
       "1           0.098871  \n",
       "2           0.247926  \n",
       "3           0.252558  \n",
       "5           0.223279  \n",
       "6           0.064231  \n",
       "7           0.030392  \n",
       "8           0.029709  \n",
       "9           0.034482  "
      ]
     },
     "execution_count": 13,
     "metadata": {},
     "output_type": "execute_result"
    }
   ],
   "source": [
    "sahp_250 = \"sAHP_250\"\n",
    "etype_sahp_df = features_df(etype_features, sahp_250)\n",
    "etype_sahp_df = drop_large_values_features(etype_sahp_df)\n",
    "etype_sahp_df.head(10)"
   ]
  },
  {
   "cell_type": "markdown",
   "metadata": {},
   "source": [
    "The figure below illustrates the feature mean and relative variances computed from the sAHP_250 protocol responses.\n",
    "\n",
    "The relative variances are computed relative to the absolute value of mean as explained in here.\n",
    "https://en.wikipedia.org/wiki/Index_of_dispersion"
   ]
  },
  {
   "cell_type": "code",
   "execution_count": 14,
   "metadata": {},
   "outputs": [
    {
     "data": {
      "image/png": "[encoded data removed]",
      "text/plain": [
       "<Figure size 1200x1200 with 1 Axes>"
      ]
     },
     "metadata": {},
     "output_type": "display_data"
    }
   ],
   "source": [
    "feature_plot(etype_sahp_df, sahp_250)"
   ]
  },
  {
   "cell_type": "markdown",
   "metadata": {},
   "source": [
    "# Features extracted from the APThreshold_300 protocol"
   ]
  },
  {
   "cell_type": "code",
   "execution_count": 15,
   "metadata": {},
   "outputs": [
    {
     "data": {
      "text/html": [
       "<div>\n",
       "<style scoped>\n",
       "    .dataframe tbody tr th:only-of-type {\n",
       "        vertical-align: middle;\n",
       "    }\n",
       "\n",
       "    .dataframe tbody tr th {\n",
       "        vertical-align: top;\n",
       "    }\n",
       "\n",
       "    .dataframe thead th {\n",
       "        text-align: right;\n",
       "    }\n",
       "</style>\n",
       "<table border=\"1\" class=\"dataframe\">\n",
       "  <thead>\n",
       "    <tr style=\"text-align: right;\">\n",
       "      <th></th>\n",
       "      <th>feature</th>\n",
       "      <th>n</th>\n",
       "      <th>efel_settings</th>\n",
       "      <th>mean</th>\n",
       "      <th>variance</th>\n",
       "      <th>relative_variance</th>\n",
       "    </tr>\n",
       "  </thead>\n",
       "  <tbody>\n",
       "    <tr>\n",
       "      <th>0</th>\n",
       "      <td>Spikecount</td>\n",
       "      <td>12</td>\n",
       "      <td>{'Threshold': -30.0, 'interp_step': 0.1, 'stri...</td>\n",
       "      <td>14.166667</td>\n",
       "      <td>0.687184</td>\n",
       "      <td>0.048507</td>\n",
       "    </tr>\n",
       "    <tr>\n",
       "      <th>1</th>\n",
       "      <td>AP_amplitude</td>\n",
       "      <td>12</td>\n",
       "      <td>{'Threshold': -30.0, 'interp_step': 0.1, 'stri...</td>\n",
       "      <td>72.549796</td>\n",
       "      <td>8.843906</td>\n",
       "      <td>0.121901</td>\n",
       "    </tr>\n",
       "    <tr>\n",
       "      <th>2</th>\n",
       "      <td>inv_time_to_first_spike</td>\n",
       "      <td>12</td>\n",
       "      <td>{'Threshold': -30.0, 'interp_step': 0.1, 'stri...</td>\n",
       "      <td>1.251683</td>\n",
       "      <td>0.053098</td>\n",
       "      <td>0.042421</td>\n",
       "    </tr>\n",
       "    <tr>\n",
       "      <th>3</th>\n",
       "      <td>ISI_log_slope</td>\n",
       "      <td>12</td>\n",
       "      <td>{'Threshold': -30.0, 'interp_step': 0.1, 'stri...</td>\n",
       "      <td>-0.342702</td>\n",
       "      <td>0.016009</td>\n",
       "      <td>0.046715</td>\n",
       "    </tr>\n",
       "    <tr>\n",
       "      <th>4</th>\n",
       "      <td>ISI_CV</td>\n",
       "      <td>12</td>\n",
       "      <td>{'Threshold': -30.0, 'interp_step': 0.1, 'stri...</td>\n",
       "      <td>0.283915</td>\n",
       "      <td>0.015063</td>\n",
       "      <td>0.053056</td>\n",
       "    </tr>\n",
       "    <tr>\n",
       "      <th>5</th>\n",
       "      <td>AP1_amp</td>\n",
       "      <td>12</td>\n",
       "      <td>{'Threshold': -30.0, 'interp_step': 0.1, 'stri...</td>\n",
       "      <td>75.807292</td>\n",
       "      <td>8.253128</td>\n",
       "      <td>0.108870</td>\n",
       "    </tr>\n",
       "    <tr>\n",
       "      <th>6</th>\n",
       "      <td>APlast_amp</td>\n",
       "      <td>12</td>\n",
       "      <td>{'Threshold': -30.0, 'interp_step': 0.1, 'stri...</td>\n",
       "      <td>69.822395</td>\n",
       "      <td>9.849927</td>\n",
       "      <td>0.141071</td>\n",
       "    </tr>\n",
       "  </tbody>\n",
       "</table>\n",
       "</div>"
      ],
      "text/plain": [
       "                   feature   n  \\\n",
       "0               Spikecount  12   \n",
       "1             AP_amplitude  12   \n",
       "2  inv_time_to_first_spike  12   \n",
       "3            ISI_log_slope  12   \n",
       "4                   ISI_CV  12   \n",
       "5                  AP1_amp  12   \n",
       "6               APlast_amp  12   \n",
       "\n",
       "                                       efel_settings       mean  variance  \\\n",
       "0  {'Threshold': -30.0, 'interp_step': 0.1, 'stri...  14.166667  0.687184   \n",
       "1  {'Threshold': -30.0, 'interp_step': 0.1, 'stri...  72.549796  8.843906   \n",
       "2  {'Threshold': -30.0, 'interp_step': 0.1, 'stri...   1.251683  0.053098   \n",
       "3  {'Threshold': -30.0, 'interp_step': 0.1, 'stri...  -0.342702  0.016009   \n",
       "4  {'Threshold': -30.0, 'interp_step': 0.1, 'stri...   0.283915  0.015063   \n",
       "5  {'Threshold': -30.0, 'interp_step': 0.1, 'stri...  75.807292  8.253128   \n",
       "6  {'Threshold': -30.0, 'interp_step': 0.1, 'stri...  69.822395  9.849927   \n",
       "\n",
       "   relative_variance  \n",
       "0           0.048507  \n",
       "1           0.121901  \n",
       "2           0.042421  \n",
       "3           0.046715  \n",
       "4           0.053056  \n",
       "5           0.108870  \n",
       "6           0.141071  "
      ]
     },
     "execution_count": 15,
     "metadata": {},
     "output_type": "execute_result"
    }
   ],
   "source": [
    "apthreshold_300 = \"APThreshold_300\"\n",
    "apthreshold_df = features_df(etype_features, apthreshold_300)\n",
    "apthreshold_df = drop_large_values_features(apthreshold_df)\n",
    "apthreshold_df.head(10)"
   ]
  },
  {
   "cell_type": "code",
   "execution_count": 16,
   "metadata": {},
   "outputs": [
    {
     "data": {
      "image/png": "[encoded data removed]",
      "text/plain": [
       "<Figure size 1200x1200 with 1 Axes>"
      ]
     },
     "metadata": {},
     "output_type": "display_data"
    }
   ],
   "source": [
    "feature_plot(apthreshold_df, apthreshold_300)"
   ]
  },
  {
   "cell_type": "markdown",
   "metadata": {},
   "source": []
  }
 ],
 "metadata": {
  "kernelspec": {
   "display_name": "Python 3.9.7 ('py39-somatic-val')",
   "language": "python",
   "name": "python3"
  },
  "language_info": {
   "codemirror_mode": {
    "name": "ipython",
    "version": 3
   },
   "file_extension": ".py",
   "mimetype": "text/x-python",
   "name": "python",
   "nbconvert_exporter": "python",
   "pygments_lexer": "ipython3",
   "version": "3.9.7"
  },
  "orig_nbformat": 4,
  "vscode": {
   "interpreter": {
    "hash": "01b95f356d58c0c62b01251923e22f925a6781b57cb9d5803cbdeff6a4cbb07f"
   }
  }
 },
 "nbformat": 4,
 "nbformat_minor": 2
}
